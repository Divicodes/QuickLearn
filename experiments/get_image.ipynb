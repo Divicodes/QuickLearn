{
 "cells": [
  {
   "cell_type": "code",
   "execution_count": 1,
   "metadata": {},
   "outputs": [
    {
     "data": {
      "text/plain": [
       "True"
      ]
     },
     "execution_count": 1,
     "metadata": {},
     "output_type": "execute_result"
    }
   ],
   "source": [
    "from dotenv import load_dotenv\n",
    "\n",
    "load_dotenv()"
   ]
  },
  {
   "cell_type": "code",
   "execution_count": 20,
   "metadata": {},
   "outputs": [
    {
     "name": "stdout",
     "output_type": "stream",
     "text": [
      "Photographer:  Pixabay\n",
      "Photo url:  https://www.pexels.com/photo/close-up-photo-of-cute-sleeping-cat-416160/\n",
      "Photo original size:  https://images.pexels.com/photos/416160/pexels-photo-416160.jpeg\n",
      "Photographer:  Pixabay\n",
      "Photo url:  https://www.pexels.com/photo/white-and-grey-kitten-on-brown-and-black-leopard-print-textile-45201/\n",
      "Photo original size:  https://images.pexels.com/photos/45201/kitty-cat-kitten-pet-45201.jpeg\n",
      "Photographer:  Larissa Barbosa\n",
      "Photo url:  https://www.pexels.com/photo/close-up-photography-of-brown-and-white-kitten-1870376/\n",
      "Photo original size:  https://images.pexels.com/photos/1870376/pexels-photo-1870376.jpeg\n",
      "Photographer:  Cats Coming\n",
      "Photo url:  https://www.pexels.com/photo/close-up-photo-of-person-holding-white-kitten-1444321/\n",
      "Photo original size:  https://images.pexels.com/photos/1444321/pexels-photo-1444321.jpeg\n",
      "Photographer:  Pixabay\n",
      "Photo url:  https://www.pexels.com/photo/orange-tabby-cat-lying-on-floor-290164/\n",
      "Photo original size:  https://images.pexels.com/photos/290164/pexels-photo-290164.jpeg\n"
     ]
    }
   ],
   "source": [
    "from pexels_api import API\n",
    "import os\n",
    "\n",
    "# Create API object\n",
    "api = API(os.getenv('PEXELS_API_KEY'))\n",
    "\n",
    "# Search for photos\n",
    "api.search('kitten', page=1, results_per_page=5)\n",
    "\n",
    "# Get photo entries\n",
    "photos = api.get_entries()\n",
    "\n",
    "for photo in photos:\n",
    "  # Print photographer\n",
    "  print('Photographer: ', photo.photographer)\n",
    "  # Print url\n",
    "  print('Photo url: ', photo.url)\n",
    "  # Print original size url\n",
    "  print('Photo original size: ', photo.original)"
   ]
  },
  {
   "cell_type": "code",
   "execution_count": 25,
   "metadata": {},
   "outputs": [],
   "source": [
    "from pexels_api import API\n",
    "from pexels_api.tools import Photo\n",
    "import os\n",
    "\n",
    "\n",
    "def get_photos(search_term: str) -> list[Photo]:\n",
    "  api = API(os.getenv('PEXELS_API_KEY'))\n",
    "  api.search(search_term, page=1, results_per_page=5)\n",
    "  photos = api.get_entries()\n",
    "  return photos"
   ]
  },
  {
   "cell_type": "code",
   "execution_count": 22,
   "metadata": {},
   "outputs": [
    {
     "name": "stdout",
     "output_type": "stream",
     "text": [
      "Image downloaded successfully: 290164.jpeg\n"
     ]
    }
   ],
   "source": [
    "import requests\n",
    "\n",
    "# Download the image\n",
    "response = requests.get(photo.large, allow_redirects=True)\n",
    "\n",
    "filename = f\"{photo.id}.{photo.extension}\"\n",
    "\n",
    "# Check if the request was successful\n",
    "if response.status_code == 200:\n",
    "    # Open a file in binary write mode and save the image content\n",
    "    with open(filename, 'wb') as f:\n",
    "        f.write(response.content)\n",
    "    print(f\"Image downloaded successfully: {filename}\")\n",
    "else:\n",
    "    print(\"Failed to retrieve image.\")"
   ]
  },
  {
   "cell_type": "code",
   "execution_count": 23,
   "metadata": {},
   "outputs": [],
   "source": [
    "def download_image(photo: Photo):\n",
    "    response = requests.get(photo.large, allow_redirects=True)\n",
    "    filename = f\"{photo.id}.{photo.extension}\"\n",
    "    if response.status_code == 200:\n",
    "        with open(filename, 'wb') as f:\n",
    "            f.write(response.content)"
   ]
  },
  {
   "cell_type": "code",
   "execution_count": 24,
   "metadata": {},
   "outputs": [],
   "source": [
    "download_image(photos[1])"
   ]
  },
  {
   "cell_type": "code",
   "execution_count": null,
   "metadata": {},
   "outputs": [],
   "source": []
  }
 ],
 "metadata": {
  "kernelspec": {
   "display_name": ".venv",
   "language": "python",
   "name": "python3"
  },
  "language_info": {
   "codemirror_mode": {
    "name": "ipython",
    "version": 3
   },
   "file_extension": ".py",
   "mimetype": "text/x-python",
   "name": "python",
   "nbconvert_exporter": "python",
   "pygments_lexer": "ipython3",
   "version": "3.11.9"
  }
 },
 "nbformat": 4,
 "nbformat_minor": 2
}
