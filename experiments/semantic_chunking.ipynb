{
  "cells": [
    {
      "cell_type": "code",
      "execution_count": 1,
      "metadata": {},
      "outputs": [
        {
          "data": {
            "text/plain": [
              "True"
            ]
          },
          "execution_count": 1,
          "metadata": {},
          "output_type": "execute_result"
        }
      ],
      "source": [
        "from dotenv import load_dotenv\n",
        "\n",
        "load_dotenv()"
      ]
    },
    {
      "cell_type": "code",
      "execution_count": 2,
      "metadata": {
        "colab": {
          "base_uri": "https://localhost:8080/"
        },
        "id": "9KnjAQlKf8oc",
        "outputId": "838b3d29-a5b5-483d-8cc8-f68322a11a4f"
      },
      "outputs": [],
      "source": [
        "from langchain_openai import ChatOpenAI\n",
        "from langchain_core.prompts import ChatPromptTemplate\n",
        "from langchain_core.output_parsers import StrOutputParser\n",
        "\n",
        "# Initialize the language model\n",
        "llm = ChatOpenAI(model_name=\"gpt-4\")\n",
        "\n",
        "# Define the prompt template\n",
        "prompt_template = ChatPromptTemplate.from_template(\"\"\"\n",
        "Given the following script, break it down into meaningful segments suitable for subtitles. Ensure each segment is concise and captures the essence of the content. Provide each segment along with an estimated duration in seconds.\n",
        "\n",
        "Script:\n",
        "{script}\n",
        "\n",
        "Output:\n",
        "\"\"\")\n",
        "\n",
        "# Create the chain\n",
        "chain = prompt_template | llm | StrOutputParser()\n",
        "\n",
        "# The script to be chunked\n",
        "script = \"\"\"\n",
        "Welcome to our video tutorial. Today, we will learn how to create a video from images using MoviePy.\n",
        "MoviePy is a versatile Python library that allows you to edit videos programmatically. First, we will install MoviePy.\n",
        "Then, we will load our images and create video clips. Finally, we will add audio and export the video.\n",
        "\"\"\""
      ]
    },
    {
      "cell_type": "code",
      "execution_count": 3,
      "metadata": {},
      "outputs": [
        {
          "name": "stdout",
          "output_type": "stream",
          "text": [
            "1. \"Introduction to the video tutorial\" (0-5 sec)\n",
            "2. \"Overview of today's lesson: creating a video from images with MoviePy\" (6-15 sec)\n",
            "3. \"Brief description of MoviePy\" (16-30 sec)\n",
            "4. \"Installing MoviePy\" (31-45 sec)\n",
            "5. \"Loading images and creating video clips\" (46-60 sec)\n",
            "6. \"Adding audio to the video\" (61-75 sec)\n",
            "7. \"Exporting the final video\" (76-90 sec)\n"
          ]
        }
      ],
      "source": [
        "# Perform semantic chunking\n",
        "result = chain.invoke({\"script\": script})\n",
        "print(result)"
      ]
    },
    {
      "cell_type": "code",
      "execution_count": null,
      "metadata": {},
      "outputs": [],
      "source": []
    }
  ],
  "metadata": {
    "colab": {
      "provenance": []
    },
    "kernelspec": {
      "display_name": "Python 3",
      "name": "python3"
    },
    "language_info": {
      "codemirror_mode": {
        "name": "ipython",
        "version": 3
      },
      "file_extension": ".py",
      "mimetype": "text/x-python",
      "name": "python",
      "nbconvert_exporter": "python",
      "pygments_lexer": "ipython3",
      "version": "3.11.9"
    }
  },
  "nbformat": 4,
  "nbformat_minor": 0
}
