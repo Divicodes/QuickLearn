{
 "cells": [
  {
   "cell_type": "markdown",
   "metadata": {},
   "source": [
    "### Generating analogies"
   ]
  },
  {
   "cell_type": "code",
   "execution_count": 2,
   "metadata": {},
   "outputs": [],
   "source": [
    "import openai\n",
    "\n",
    "from dotenv import load_dotenv\n",
    "\n",
    "load_dotenv()\n",
    "\n",
    "\n",
    "def generate_analogy(interests, topic):\n",
    "    response = openai.chat.completions.create(\n",
    "        model=\"gpt-4o\",\n",
    "        messages=[\n",
    "            {\"role\": \"system\", \"content\": \"You are a helpful assistant.\"},\n",
    "            {\n",
    "                \"role\": \"user\",\n",
    "                \"content\": f\"Based on the user's '{interests}', generation a short paragraph script in a way that user will explain the '{topic}' with analogy of the interests mentioned.\",\n",
    "            },\n",
    "        ],\n",
    "        n=1,\n",
    "        stop=None,\n",
    "        temperature=0.7,\n",
    "    )\n",
    "    script = response.choices[0].message.content\n",
    "    print(script)\n",
    "    return script \n",
    "\n"
   ]
  },
  {
   "cell_type": "code",
   "execution_count": 3,
   "metadata": {},
   "outputs": [
    {
     "name": "stdout",
     "output_type": "stream",
     "text": [
      "Imagine a grand castle in a mythical land, where the king wants to protect his kingdom from dragons. To do this, he trains a group of knights. These knights represent machine learning algorithms. At first, they might not know the best way to fight the dragons, but with each battle, they learn and adapt. They observe the dragons' movements and tactics, much like how machine learning algorithms analyze data. Over time, the knights become more skilled and efficient in defending the castle, just as machine learning models improve their predictions and decisions with more data. This continuous learning and adaptation process is the essence of machine learning, turning raw experience into refined skill.\n"
     ]
    },
    {
     "data": {
      "text/plain": [
       "\"Imagine a grand castle in a mythical land, where the king wants to protect his kingdom from dragons. To do this, he trains a group of knights. These knights represent machine learning algorithms. At first, they might not know the best way to fight the dragons, but with each battle, they learn and adapt. They observe the dragons' movements and tactics, much like how machine learning algorithms analyze data. Over time, the knights become more skilled and efficient in defending the castle, just as machine learning models improve their predictions and decisions with more data. This continuous learning and adaptation process is the essence of machine learning, turning raw experience into refined skill.\""
      ]
     },
     "execution_count": 3,
     "metadata": {},
     "output_type": "execute_result"
    }
   ],
   "source": [
    "interests = \"Castles, Dragons, and Knights\"\n",
    "topic = \"Machine Learning\"\n",
    "\n",
    "analogy = generate_analogy(interests, topic)\n",
    "analogy"
   ]
  },
  {
   "cell_type": "markdown",
   "metadata": {},
   "source": [
    "### Semantic chunking"
   ]
  },
  {
   "cell_type": "code",
   "execution_count": 4,
   "metadata": {},
   "outputs": [],
   "source": [
    "from langchain_openai import ChatOpenAI\n",
    "from langchain_core.prompts import ChatPromptTemplate\n",
    "from langchain_core.output_parsers import StrOutputParser\n",
    "\n",
    "# Initialize the language model\n",
    "llm = ChatOpenAI(model_name=\"gpt-4\")\n",
    "\n",
    "# Define the prompt template\n",
    "prompt_template = ChatPromptTemplate.from_template(\"\"\"\n",
    "Given the following script, break it down into meaningful segments suitable for subtitles. Ensure each segment is concise and captures the essence of the content. Provide each segment along with an estimated duration in seconds.\n",
    "\n",
    "Script:\n",
    "{script}\n",
    "\n",
    "Output:\n",
    "\"\"\")\n",
    "\n",
    "# Create the chain\n",
    "chain = prompt_template | llm | StrOutputParser()\n",
    "\n",
    "# The script to be chunked\n",
    "script = \"\"\"\n",
    "Welcome to our video tutorial. Today, we will learn how to create a video from images using MoviePy.\n",
    "MoviePy is a versatile Python library that allows you to edit videos programmatically. First, we will install MoviePy.\n",
    "Then, we will load our images and create video clips. Finally, we will add audio and export the video.\n",
    "\"\"\""
   ]
  },
  {
   "cell_type": "code",
   "execution_count": 5,
   "metadata": {},
   "outputs": [
    {
     "name": "stdout",
     "output_type": "stream",
     "text": [
      "1. \"Introduction to video tutorial on creating videos from images with MoviePy\" (0-5 seconds)\n",
      "2. \"Overview of MoviePy and its versatility in video editing\" (6-12 seconds)\n",
      "3. \"Step-by-step guide on installing MoviePy\" (13-20 seconds)\n",
      "4. \"Detailed instructions on loading images to create video clips\" (21-30 seconds)\n",
      "5. \"Process of adding audio to the video clips\" (31-38 seconds)\n",
      "6. \"Guidance on exporting the final video\" (39-45 seconds)\n"
     ]
    }
   ],
   "source": [
    "# Perform semantic chunking\n",
    "result = chain.invoke({\"script\": script})\n",
    "print(result)"
   ]
  },
  {
   "cell_type": "markdown",
   "metadata": {},
   "source": [
    "### Getting image search terms for sentences"
   ]
  },
  {
   "cell_type": "code",
   "execution_count": 6,
   "metadata": {},
   "outputs": [
    {
     "name": "stdout",
     "output_type": "stream",
     "text": [
      "MoviePy tutorial\n",
      "\"MoviePy video editing\"\n",
      "\"installation tutorial\"\n",
      "\"Video creation\"\n",
      "\"Audio editing\"\n",
      "\"video export\"\n"
     ]
    }
   ],
   "source": [
    "def get_image_search_term(script):\n",
    "    response = openai.chat.completions.create(\n",
    "        model=\"gpt-4o\",\n",
    "        messages=[\n",
    "            {\"role\": \"system\", \"content\": \"You are a helpful assistant.\"},\n",
    "            {\n",
    "                \"role\": \"user\",\n",
    "                \"content\": f\"Based on the given sentence '{script}', generate one keyword which is used to search for the stock image related to the sentence.\",\n",
    "            },\n",
    "        ],\n",
    "        n=1,\n",
    "        stop=None,\n",
    "        temperature=0.7,\n",
    "    )\n",
    "    script = response.choices[0].message.content\n",
    "    # print(script)\n",
    "    return script  # Ensure the API returns a valid Python dictionary\n",
    "\n",
    "\n",
    "for line in result.splitlines():\n",
    "    keyword = get_image_search_term(line)\n",
    "    print(keyword)\n"
   ]
  },
  {
   "cell_type": "code",
   "execution_count": null,
   "metadata": {},
   "outputs": [],
   "source": []
  }
 ],
 "metadata": {
  "kernelspec": {
   "display_name": ".venv",
   "language": "python",
   "name": "python3"
  },
  "language_info": {
   "codemirror_mode": {
    "name": "ipython",
    "version": 3
   },
   "file_extension": ".py",
   "mimetype": "text/x-python",
   "name": "python",
   "nbconvert_exporter": "python",
   "pygments_lexer": "ipython3",
   "version": "3.11.9"
  }
 },
 "nbformat": 4,
 "nbformat_minor": 2
}
